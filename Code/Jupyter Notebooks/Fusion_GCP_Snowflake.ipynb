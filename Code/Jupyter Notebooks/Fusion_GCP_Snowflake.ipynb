{
 "cells": [
  {
   "cell_type": "code",
   "execution_count": null,
   "id": "d376e740-a29f-47e4-9df5-cd5d0ede4e5d",
   "metadata": {
    "tags": []
   },
   "outputs": [],
   "source": [
    "#Copyright (c) 2025, Oracle and/or its affiliates.\n",
    "#Licensed under the Universal Permissive License v 1.0 as shown at https://oss.oracle.com/licenses/upl.\n",
    "pip install google-cloud-storage"
   ]
  },
  {
   "cell_type": "code",
   "execution_count": null,
   "id": "d37ad53a-77dc-4ffd-80e1-90c559c8d23b",
   "metadata": {
    "tags": []
   },
   "outputs": [],
   "source": [
    "prefixes = [\n",
    "    \"fscmtopmodelam_finextractam_apbiccextractam\",\n",
    "    \"fscmtopmodelam_finextractam_arbiccextractam\",\n",
    "    \"fscmtopmodelam_finextractam_cebiccextractam\",\n",
    "    \"fscmtopmodelam_finextractam_exmbiccextractam\",\n",
    "    \"fscmtopmodelam_finextractam_fabiccextractam\",\n",
    "    \"fscmtopmodelam_finextractam_funbiccextractam\",\n",
    "    \"fscmtopmodelam_finextractam_glbiccextractam\",\n",
    "    \"fscmtopmodelam_finextractam_iexbiccextractam\",\n",
    "    \"fscmtopmodelam_finextractam_xlabiccextractam\",\n",
    "    \"fscmtopmodelam_finextractam_xlebiccextractam\",\n",
    "    \"fscmtopmodelam_finextractam_zxbiccextractam\"\n",
    "]"
   ]
  },
  {
   "cell_type": "code",
   "execution_count": null,
   "id": "80db4916-a2af-4cd6-b22f-079d2c6b4de3",
   "metadata": {},
   "outputs": [],
   "source": [
    "import base64\n",
    "def get_text_secret(secret_ocid):\n",
    "    vault_client = oci.secrets.SecretsClient(config)\n",
    "    try:\n",
    "        secret_content = vault_client.get_secret_bundle(secret_ocid).data.secret_bundle_content.content\n",
    "        decrypted_secret_content = base64.b64decode(secret_content).decode(\"utf-8\")\n",
    "    except Exception as ex:\n",
    "        print(\"ERROR: failed to retrieve the secret content\", ex, flush=True)\n",
    "        raise\n",
    "    return decrypted_secret_content"
   ]
  },
  {
   "cell_type": "code",
   "execution_count": null,
   "id": "7e8ef60e-bb27-4b38-a2c2-894040f8c636",
   "metadata": {
    "tags": []
   },
   "outputs": [],
   "source": [
    "import snowflake.connector\n",
    "passowrd=get_text_secret(\"<oci vault secret>\")\n",
    "conn = snowflake.connector.connect(\n",
    "    user='<>',\n",
    "    password=passowrd,\n",
    "    account='<>',\n",
    "    warehouse='<>',\n",
    "    database='<>',\n",
    "    schema='<>'\n",
    ")\n",
    "\n",
    "cur = conn.cursor()"
   ]
  },
  {
   "cell_type": "code",
   "execution_count": null,
   "id": "014e91d2-464f-48ff-8ef7-ab7ce7236f65",
   "metadata": {
    "tags": []
   },
   "outputs": [],
   "source": [
    "def process_filename(filename):\n",
    "    # Split the filename based on underscores\n",
    "    parts = filename.split('_')\n",
    "    \n",
    "    # Ensure there are at least four underscores in the filename\n",
    "    if len(parts) < 5:\n",
    "        return \"Invalid filename\"\n",
    "    \n",
    "    # Join the parts after the fourth underscore\n",
    "    new_filename = '_'.join(parts[4:])\n",
    "    \n",
    "    # Remove everything after the first hyphen\n",
    "    new_filename = new_filename.split('-')[0]\n",
    "    \n",
    "    return new_filename+\".csv\""
   ]
  },
  {
   "cell_type": "code",
   "execution_count": null,
   "id": "f26aa61a-ea54-4aad-87f7-1fb3854f5725",
   "metadata": {
    "tags": []
   },
   "outputs": [],
   "source": [
    "def checkLisOfObjects(path_file):\n",
    "    for substring in prefixes:\n",
    "        if substring in path_file:\n",
    "            return True"
   ]
  },
  {
   "cell_type": "code",
   "execution_count": null,
   "id": "d003119d-0368-48f2-964c-b4dd007ad247",
   "metadata": {
    "tags": []
   },
   "outputs": [],
   "source": [
    "def uploadToGCP(file_contents, storage_client, file_name, bucket_name):\n",
    "    with zipfile.ZipFile(io.BytesIO(file_contents)) as zip_ref:\n",
    "    # List contents of the zip file\n",
    "        for file_info in zip_ref.infolist():\n",
    "            extracted_file_content = zip_ref.read(file_info.filename)\n",
    "            bucket = storage_client.bucket(bucket_name)\n",
    "            object = io.BytesIO(extracted_file_content)\n",
    "            blob = bucket.blob(file_name)\n",
    "            blob.upload_from_file(object)"
   ]
  },
  {
   "cell_type": "code",
   "execution_count": null,
   "id": "857a21a5-90a9-4d90-bbb1-fafafecb9f6d",
   "metadata": {
    "tags": []
   },
   "outputs": [],
   "source": [
    "import os\n",
    "import oci\n",
    "import io\n",
    "import zipfile\n",
    "import time\n",
    "\n",
    "# OCI Configuration\n",
    "CONFIG_PROFILE = \"DEFAULT\"\n",
    "config = oci.config.from_file('~/.oci/config', CONFIG_PROFILE)\n",
    "\n",
    "# OCI Object Storage Client\n",
    "object_storage = oci.object_storage.ObjectStorageClient(config)\n",
    "\n",
    "source_bucket = '<OCI Bucket>'\n",
    "source_namespace='<OCI Namespace>'\n",
    "next_starts_with = None\n",
    "# List objects in OCI Bucket\n",
    "object_list = object_storage.list_objects(source_namespace, source_bucket)\n",
    "\n",
    "# Copy objects from OCI to GCP Storage\n",
    "try:\n",
    "    start_time = time.time()\n",
    "    for obj in object_list.data.objects:\n",
    "        object_name = obj.name\n",
    "        if checkLisOfObjects(object_name):\n",
    "            object_content = object_storage.get_object(source_namespace, source_bucket, object_name)\n",
    "            storage_client = storage.Client(project=\"<GCP project ID>\")\n",
    "            #unzip_and_upload(object_content.data.content,\"bicc-bucket\",\"bicc-bucket\")\n",
    "            uploadToGCP(object_content.data.content, storage_client, process_filename(object_name), \"bicc-bucket\")\n",
    "    if not next_starts_with:\n",
    "        end_time = time.time()\n",
    "        elapsed_time= end_time - start_time\n",
    "        print(\"Elapsed time: \", elapsed_time)\n",
    "except Exception as e:\n",
    "    print(f\"Error: {e}\")"
   ]
  },
  {
   "cell_type": "code",
   "execution_count": null,
   "id": "a0159ba6-bee5-48e1-aa84-02633ce76a2c",
   "metadata": {},
   "outputs": [],
   "source": [
    "\n",
    "storage_client = storage.Client(project=\"<GCP project ID>\")\n",
    "bucket = storage_client.list_blobs(\"<GCP Bucket>\")\n",
    "start_time = time.time()\n",
    "for obj in bucket:\n",
    "    object_name = obj.name[:-4]\n",
    "    try:\n",
    "        copy_table = f\"COPY INTO {object_name} FROM '@<gcp stage>/{object_name}' FILE_FORMAT = (TYPE = 'csv', FIELD_DELIMITER=',', FIELD_OPTIONALLY_ENCLOSED_BY='\\\"', SKIP_HEADER = 1, error_on_column_count_mismatch=false)\"\n",
    "    except:\n",
    "        copy_table = f\"COPY INTO {object_name} FROM '@<gcp stage>/{object_name}' FILE_FORMAT = (TYPE = 'csv', FIELD_DELIMITER='|', FIELD_OPTIONALLY_ENCLOSED_BY='\\\"', SKIP_HEADER = 1,error_on_column_count_mismatch=false)\"\n",
    "    cur.execute(copy_table)\n",
    "    conn.commit()\n",
    "    print(copy_table)\n",
    "end_time = time.time()\n",
    "elapsed_time= end_time - start_time\n",
    "print(\"Elapsed time: \", elapsed_time)\n",
    "cur.close()\n",
    "conn.close()"
   ]
  }
 ],
 "metadata": {
  "kernelspec": {
   "display_name": "Python [conda env:pyspark32_p38_cpu_v3]",
   "language": "python",
   "name": "conda-env-pyspark32_p38_cpu_v3-py"
  },
  "language_info": {
   "codemirror_mode": {
    "name": "ipython",
    "version": 3
   },
   "file_extension": ".py",
   "mimetype": "text/x-python",
   "name": "python",
   "nbconvert_exporter": "python",
   "pygments_lexer": "ipython3",
   "version": "3.8.16"
  }
 },
 "nbformat": 4,
 "nbformat_minor": 5
}
