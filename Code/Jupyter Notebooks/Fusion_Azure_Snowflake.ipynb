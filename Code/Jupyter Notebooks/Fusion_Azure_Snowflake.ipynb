{
 "cells": [
  {
   "cell_type": "code",
   "execution_count": null,
   "id": "3216ac04-f2a1-42bc-9ebe-6db919d5202c",
   "metadata": {
    "tags": []
   },
   "outputs": [],
   "source": [
    "#Copyright (c) 2025, Oracle and/or its affiliates.\n",
    "#Licensed under the Universal Permissive License v 1.0 as shown at https://oss.oracle.com/licenses/upl.\n",
    "\n",
    "pip install azure-storage-blob"
   ]
  },
  {
   "cell_type": "code",
   "execution_count": null,
   "id": "5a8c4cc5-763a-47ae-9426-fc4120c312d1",
   "metadata": {
    "tags": []
   },
   "outputs": [],
   "source": [
    "#Copyright (c) 2025, Oracle and/or its affiliates.\n",
    "#Licensed under the Universal Permissive License v 1.0 as shown at https://oss.oracle.com/licenses/upl.\n",
    "import os\n",
    "import oci\n",
    "import io\n",
    "import zipfile\n",
    "import time\n",
    "from azure.storage.blob import BlobServiceClient, BlobClient, ContentSettings\n",
    "\n",
    "# OCI Configuration\n",
    "CONFIG_PROFILE = \"DEFAULT\"\n",
    "config = oci.config.from_file('~/.oci/config', CONFIG_PROFILE)\n",
    "\n",
    "# Azure Configuration\n",
    "azure_container_name = \"<Azure Blob Storage>\"\n",
    "\n",
    "# OCI Object Storage Client\n",
    "object_storage = oci.object_storage.ObjectStorageClient(config)\n",
    "\n",
    "azure_connection_string = \"DefaultEndpointsProtocol=https;AccountName=<..>;AccountKey=<..>;EndpointSuffix=core.windows.net\"\n",
    "\n",
    "# Azure Blob Service Client\n",
    "blob_service_client = BlobServiceClient.from_connection_string(azure_connection_string)\n",
    "container_client = blob_service_client.get_container_client(azure_container_name)"
   ]
  },
  {
   "cell_type": "code",
   "execution_count": null,
   "id": "d37ad53a-77dc-4ffd-80e1-90c559c8d23b",
   "metadata": {
    "tags": []
   },
   "outputs": [],
   "source": [
    "prefixes = [\n",
    "    \"fscmtopmodelam_finextractam_apbiccextractam\",\n",
    "    \"fscmtopmodelam_finextractam_arbiccextractam\",\n",
    "    \"fscmtopmodelam_finextractam_cebiccextractam\",\n",
    "    \"fscmtopmodelam_finextractam_exmbiccextractam\",\n",
    "    \"fscmtopmodelam_finextractam_fabiccextractam\",\n",
    "    \"fscmtopmodelam_finextractam_funbiccextractam\",\n",
    "    \"fscmtopmodelam_finextractam_glbiccextractam\",\n",
    "    \"fscmtopmodelam_finextractam_iexbiccextractam\",\n",
    "    \"fscmtopmodelam_finextractam_xlabiccextractam\",\n",
    "    \"fscmtopmodelam_finextractam_xlebiccextractam\",\n",
    "    \"fscmtopmodelam_finextractam_zxbiccextractam\"\n",
    "]"
   ]
  },
  {
   "cell_type": "code",
   "execution_count": null,
   "id": "8b8ddb9d-3635-48ee-878a-a43620eedce4",
   "metadata": {
    "tags": []
   },
   "outputs": [],
   "source": [
    "import base64\n",
    "def get_text_secret(secret_ocid):\n",
    "    vault_client = oci.secrets.SecretsClient(config)\n",
    "    try:\n",
    "        secret_content = vault_client.get_secret_bundle(secret_ocid).data.secret_bundle_content.content\n",
    "        decrypted_secret_content = base64.b64decode(secret_content).decode(\"utf-8\")\n",
    "    except Exception as ex:\n",
    "        print(\"ERROR: failed to retrieve the secret content\", ex, flush=True)\n",
    "        raise\n",
    "    return decrypted_secret_content"
   ]
  },
  {
   "cell_type": "code",
   "execution_count": null,
   "id": "7e8ef60e-bb27-4b38-a2c2-894040f8c636",
   "metadata": {
    "tags": []
   },
   "outputs": [],
   "source": [
    "import snowflake.connector\n",
    "\n",
    "passowrd=get_text_secret(\"<oci vault secret>\")\n",
    "\n",
    "conn = snowflake.connector.connect(\n",
    "    user='<>',\n",
    "    password=passowrd,\n",
    "    account='<>',\n",
    "    warehouse='<>',\n",
    "    database='<>',\n",
    "    schema='<>'\n",
    ")\n",
    "\n",
    "cur = conn.cursor()"
   ]
  },
  {
   "cell_type": "code",
   "execution_count": null,
   "id": "014e91d2-464f-48ff-8ef7-ab7ce7236f65",
   "metadata": {
    "tags": []
   },
   "outputs": [],
   "source": [
    "def process_filename(filename):\n",
    "    # Split the filename based on underscores\n",
    "    parts = filename.split('_')\n",
    "    \n",
    "    # Ensure there are at least four underscores in the filename\n",
    "    if len(parts) < 5:\n",
    "        return \"Invalid filename\"\n",
    "    \n",
    "    # Join the parts after the fourth underscore\n",
    "    new_filename = '_'.join(parts[4:])\n",
    "    \n",
    "    # Remove everything after the first hyphen\n",
    "    new_filename = new_filename.split('-')[0]\n",
    "    \n",
    "    return new_filename+\".csv\""
   ]
  },
  {
   "cell_type": "code",
   "execution_count": null,
   "id": "f26aa61a-ea54-4aad-87f7-1fb3854f5725",
   "metadata": {
    "tags": []
   },
   "outputs": [],
   "source": [
    "def checkLisOfObjects(path_file):\n",
    "    for substring in prefixes:\n",
    "        if substring in path_file:\n",
    "            return True"
   ]
  },
  {
   "cell_type": "code",
   "execution_count": null,
   "id": "d003119d-0368-48f2-964c-b4dd007ad247",
   "metadata": {
    "tags": []
   },
   "outputs": [],
   "source": [
    "def uploadToAzure(file_contents, blob_client):\n",
    "    with zipfile.ZipFile(io.BytesIO(file_contents)) as zip_ref:\n",
    "    # List contents of the zip file\n",
    "        for file_info in zip_ref.infolist():\n",
    "            extracted_file_content = zip_ref.read(file_info.filename)\n",
    "            blob_client.upload_blob(data=io.BytesIO(extracted_file_content), overwrite=True)"
   ]
  },
  {
   "cell_type": "code",
   "execution_count": null,
   "id": "857a21a5-90a9-4d90-bbb1-fafafecb9f6d",
   "metadata": {
    "tags": []
   },
   "outputs": [],
   "source": [
    "source_bucket = '<OCI Bucket>'\n",
    "source_namespace='<OCI Namespace>'\n",
    "next_starts_with = None\n",
    "# List objects in OCI Bucket\n",
    "object_list = object_storage.list_objects(source_namespace, source_bucket)\n",
    "\n",
    "# Copy objects from OCI to Azure Blob Storage\n",
    "try:\n",
    "    start_time = time.time()\n",
    "    for obj in object_list.data.objects:\n",
    "        object_name = obj.name\n",
    "        if checkLisOfObjects(object_name):\n",
    "            object_content = object_storage.get_object(source_namespace, source_bucket, object_name)\n",
    "            blob_client = container_client.get_blob_client(process_filename(object_name))\n",
    "            uploadToAzure(object_content.data.content, blob_client)\n",
    "    if not next_starts_with:\n",
    "        print('{\"status\":\"200\"}')\n",
    "        end_time = time.time()\n",
    "        elapsed_time= end_time - start_time\n",
    "        print(\"Elapsed time: \", elapsed_time)\n",
    "except Exception as e:\n",
    "    print(f\"Error: {e}\")"
   ]
  },
  {
   "cell_type": "code",
   "execution_count": null,
   "id": "4d1e0069-4f54-4cf5-b265-b10bf4790724",
   "metadata": {
    "tags": []
   },
   "outputs": [],
   "source": [
    "blob_list = container_client.list_blobs()\n",
    "for blob in blob_list:\n",
    "    print(f\"Name: {blob.name}\")"
   ]
  },
  {
   "cell_type": "code",
   "execution_count": null,
   "id": "a0159ba6-bee5-48e1-aa84-02633ce76a2c",
   "metadata": {},
   "outputs": [],
   "source": [
    "bucket = container_client.list_blobs()\n",
    "start_time = time.time()\n",
    "for obj in bucket:\n",
    "    object_name = obj.name[:-4]\n",
    "    try:\n",
    "        copy_table = f\"COPY INTO {object_name} FROM '@<azure stage>/{object_name}.csv' FILE_FORMAT = (TYPE = 'csv', FIELD_DELIMITER=',', FIELD_OPTIONALLY_ENCLOSED_BY='\\\"', SKIP_HEADER = 1, error_on_column_count_mismatch=false)\"\n",
    "    except:\n",
    "        copy_table = f\"COPY INTO {object_name} FROM '@<azure stage>/{object_name}.csv' FILE_FORMAT = (TYPE = 'csv', FIELD_DELIMITER='|', FIELD_OPTIONALLY_ENCLOSED_BY='\\\"', SKIP_HEADER = 1,error_on_column_count_mismatch=false)\"\n",
    "    cur.execute(copy_table)\n",
    "    conn.commit()\n",
    "    print(copy_table)\n",
    "end_time = time.time()\n",
    "elapsed_time= end_time - start_time\n",
    "print(\"Elapsed time: \", elapsed_time)\n",
    "cur.close()\n",
    "conn.close()"
   ]
  }
 ],
 "metadata": {
  "kernelspec": {
   "display_name": "Python [conda env:pyspark32_p38_cpu_v3]",
   "language": "python",
   "name": "conda-env-pyspark32_p38_cpu_v3-py"
  },
  "language_info": {
   "codemirror_mode": {
    "name": "ipython",
    "version": 3
   },
   "file_extension": ".py",
   "mimetype": "text/x-python",
   "name": "python",
   "nbconvert_exporter": "python",
   "pygments_lexer": "ipython3",
   "version": "3.8.16"
  }
 },
 "nbformat": 4,
 "nbformat_minor": 5
}
