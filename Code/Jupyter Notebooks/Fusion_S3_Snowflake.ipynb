{
 "cells": [
  {
   "cell_type": "code",
   "execution_count": null,
   "id": "3216ac04-f2a1-42bc-9ebe-6db919d5202c",
   "metadata": {
    "tags": []
   },
   "outputs": [],
   "source": [
    "#Copyright (c) 2025, Oracle and/or its affiliates.\n",
    "#Licensed under the Universal Permissive License v 1.0 as shown at https://oss.oracle.com/licenses/upl.\n",
    "pip install boto3"
   ]
  },
  {
   "cell_type": "code",
   "execution_count": null,
   "id": "3a925aa4-0976-410c-acda-f9a811ffff20",
   "metadata": {
    "tags": []
   },
   "outputs": [],
   "source": [
    "import oci\n",
    "import io\n",
    "import zipfile\n",
    "import time\n",
    "\n",
    "# OCI Configuration\n",
    "CONFIG_PROFILE = \"DEFAULT\"\n",
    "config = oci.config.from_file('~/.oci/config', CONFIG_PROFILE)\n",
    "object_storage = oci.object_storage.ObjectStorageClient(config)"
   ]
  },
  {
   "cell_type": "code",
   "execution_count": null,
   "id": "d37ad53a-77dc-4ffd-80e1-90c559c8d23b",
   "metadata": {
    "tags": []
   },
   "outputs": [],
   "source": [
    "prefixes = [\n",
    "    \"fscmtopmodelam_finextractam_apbiccextractam\",\n",
    "    \"fscmtopmodelam_finextractam_arbiccextractam\",\n",
    "    \"fscmtopmodelam_finextractam_cebiccextractam\",\n",
    "    \"fscmtopmodelam_finextractam_exmbiccextractam\",\n",
    "    \"fscmtopmodelam_finextractam_fabiccextractam\",\n",
    "    \"fscmtopmodelam_finextractam_funbiccextractam\",\n",
    "    \"fscmtopmodelam_finextractam_glbiccextractam\",\n",
    "    \"fscmtopmodelam_finextractam_iexbiccextractam\",\n",
    "    \"fscmtopmodelam_finextractam_xlabiccextractam\",\n",
    "    \"fscmtopmodelam_finextractam_xlebiccextractam\",\n",
    "    \"fscmtopmodelam_finextractam_zxbiccextractam\"\n",
    "]"
   ]
  },
  {
   "cell_type": "code",
   "execution_count": null,
   "id": "d4e17387-c7f5-4fa7-9411-02905f0eab15",
   "metadata": {},
   "outputs": [],
   "source": [
    "import base64\n",
    "def get_text_secret(secret_ocid):\n",
    "    vault_client = oci.secrets.SecretsClient(config)\n",
    "    try:\n",
    "        secret_content = vault_client.get_secret_bundle(secret_ocid).data.secret_bundle_content.content\n",
    "        decrypted_secret_content = base64.b64decode(secret_content).decode(\"utf-8\")\n",
    "    except Exception as ex:\n",
    "        print(\"ERROR: failed to retrieve the secret content\", ex, flush=True)\n",
    "        raise\n",
    "    return decrypted_secret_content"
   ]
  },
  {
   "cell_type": "code",
   "execution_count": null,
   "id": "7e8ef60e-bb27-4b38-a2c2-894040f8c636",
   "metadata": {
    "tags": []
   },
   "outputs": [],
   "source": [
    "import snowflake.connector\n",
    "passowrd=get_text_secret(\"<oci vault secret>\")\n",
    "\n",
    "conn = snowflake.connector.connect(\n",
    "    user='<>',\n",
    "    password=passowrd,\n",
    "    account='<>',\n",
    "    warehouse='<>',\n",
    "    database='<>',\n",
    "    schema='<>'\n",
    ")\n",
    "\n",
    "cur = conn.cursor()"
   ]
  },
  {
   "cell_type": "code",
   "execution_count": null,
   "id": "857a21a5-90a9-4d90-bbb1-fafafecb9f6d",
   "metadata": {
    "tags": []
   },
   "outputs": [],
   "source": [
    "import boto3\n",
    "s3 = boto3.resource(\n",
    "    's3',\n",
    "    aws_access_key_id=\"<>\",\n",
    "    aws_secret_access_key=\"<>=\",\n",
    "    region_name=\"<region>\", # Region name here that matches the endpoint\n",
    "    endpoint_url=\"https://<OCI namespace>.compat.objectstorage.<region>.oraclecloud.com\" # Include your namespace in the URL\n",
    ")"
   ]
  },
  {
   "cell_type": "code",
   "execution_count": null,
   "id": "d003119d-0368-48f2-964c-b4dd007ad247",
   "metadata": {
    "tags": []
   },
   "outputs": [],
   "source": [
    "def uploadToS3(file_contents, destination_bucket_name, file_name):\n",
    "    with zipfile.ZipFile(io.BytesIO(file_contents)) as zip_ref:\n",
    "    # List contents of the zip file\n",
    "        for file_info in zip_ref.infolist():\n",
    "            extracted_file_content = zip_ref.read(file_info.filename)\n",
    "            # Upload extracted file to destination bucket\n",
    "            client = boto3.client('s3', region_name='<S3 region>')\n",
    "            client.put_object(Bucket=destination_bucket_name,Key=process_filename(file_info.filename),\n",
    "                              Body=io.BytesIO(extracted_file_content)\n",
    "                             )"
   ]
  },
  {
   "cell_type": "code",
   "execution_count": null,
   "id": "f26aa61a-ea54-4aad-87f7-1fb3854f5725",
   "metadata": {
    "tags": []
   },
   "outputs": [],
   "source": [
    "def checkLisOfObjects(path_file):\n",
    "    for substring in prefixes:\n",
    "        if substring in path_file:\n",
    "            return True"
   ]
  },
  {
   "cell_type": "code",
   "execution_count": null,
   "id": "014e91d2-464f-48ff-8ef7-ab7ce7236f65",
   "metadata": {
    "tags": []
   },
   "outputs": [],
   "source": [
    "def process_filename(filename):\n",
    "    # Split the filename based on underscores\n",
    "    parts = filename.split('_')\n",
    "    \n",
    "    # Ensure there are at least four underscores in the filename\n",
    "    if len(parts) < 5:\n",
    "        return \"Invalid filename\"\n",
    "    \n",
    "    # Join the parts after the fourth underscore\n",
    "    new_filename = '_'.join(parts[4:])\n",
    "    \n",
    "    # Remove everything after the first hyphen\n",
    "    new_filename = new_filename.split('-')[0]\n",
    "    \n",
    "    return new_filename+\".csv\""
   ]
  },
  {
   "cell_type": "code",
   "execution_count": null,
   "id": "eb33ccd5-9b91-49dd-8dcf-616de4bad1e4",
   "metadata": {
    "tags": []
   },
   "outputs": [],
   "source": [
    "source_bucket = '<OCI Bucket>'\n",
    "source_namespace='<OCI Namespace>'\n",
    "next_starts_with = None\n",
    "response = object_storage.list_objects(source_namespace, source_bucket,start=next_starts_with, fields='size,timeCreated,timeModified,storageTier', retry_strategy=oci.retry.DEFAULT_RETRY_STRATEGY)\n",
    "next_starts_with= response.data.next_start_with\n",
    "try:    \n",
    "    start_time = time.time()\n",
    "    print(start_time)\n",
    "    for object_file in response.data.objects:\n",
    "            path_file=str(object_file.name)\n",
    "            if checkLisOfObjects(path_file):\n",
    "                get_object_response = object_storage.get_object(source_namespace, source_bucket, path_file)\n",
    "                uploadToS3(get_object_response.data.content, \"<S3 Bucket>\", path_file)\n",
    "    if not next_starts_with:\n",
    "        end_time = time.time()\n",
    "        elapsed_time= end_time - start_time\n",
    "        print(\"Elapsed time: \", elapsed_time)\n",
    "except Exception as e:\n",
    "    print(f\"Error: {e}\")"
   ]
  },
  {
   "cell_type": "code",
   "execution_count": null,
   "id": "a0159ba6-bee5-48e1-aa84-02633ce76a2c",
   "metadata": {},
   "outputs": [],
   "source": [
    "import boto3\n",
    "s3 = boto3.resource('s3')\n",
    "bucket = s3.Bucket('<S3 Bucket>')\n",
    "start_time = time.time()\n",
    "for obj in bucket.objects.all():\n",
    "    object_name = obj.key[:-4]\n",
    "    try:\n",
    "        copy_table = f\"COPY INTO {object_name} FROM '@<S3 Stage>/{object_name}.csv' FILE_FORMAT = (TYPE = 'csv', FIELD_DELIMITER=',', FIELD_OPTIONALLY_ENCLOSED_BY='\\\"', SKIP_HEADER = 1, error_on_column_count_mismatch=false)\"\n",
    "    except:\n",
    "        copy_table = f\"COPY INTO {object_name} FROM '@<S3 Stage>/{object_name}.csv' FILE_FORMAT = (TYPE = 'csv', FIELD_DELIMITER='|', FIELD_OPTIONALLY_ENCLOSED_BY='\\\"', SKIP_HEADER = 1,error_on_column_count_mismatch=false)\"\n",
    "    cur.execute(copy_table)\n",
    "    conn.commit()\n",
    "    print(copy_table)\n",
    "end_time = time.time()\n",
    "elapsed_time= end_time - start_time\n",
    "print(\"Elapsed time: \", elapsed_time)\n",
    "cur.close()\n",
    "conn.close()"
   ]
  }
 ],
 "metadata": {
  "kernelspec": {
   "display_name": "Python [conda env:pyspark32_p38_cpu_v3]",
   "language": "python",
   "name": "conda-env-pyspark32_p38_cpu_v3-py"
  },
  "language_info": {
   "codemirror_mode": {
    "name": "ipython",
    "version": 3
   },
   "file_extension": ".py",
   "mimetype": "text/x-python",
   "name": "python",
   "nbconvert_exporter": "python",
   "pygments_lexer": "ipython3",
   "version": "3.8.16"
  }
 },
 "nbformat": 4,
 "nbformat_minor": 5
}
